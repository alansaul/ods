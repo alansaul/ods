{
 "metadata": {
  "name": "",
  "signature": "sha256:9b0ae6c55c42db3627dba8194949f0bd60fef6d0c5ae92f0144ef26a62fcdf57"
 },
 "nbformat": 3,
 "nbformat_minor": 0,
 "worksheets": [
  {
   "cells": [
    {
     "cell_type": "markdown",
     "metadata": {},
     "source": [
      "# Datasets: Celestial Observations of the Planet Ceres\n",
      "\n",
      "## Open Data Science Initiative\n",
      "\n",
      "### 13th November 2014 Neil D. Lawrence"
     ]
    },
    {
     "cell_type": "markdown",
     "metadata": {},
     "source": [
      "This data set consists of obervations of the plane Ceres collected by Guiseppe Piazzi from 1st January 1801 to 11th February 1801. The data was published in the September 1801 edition of [Monatliche Correspondenz](http://de.wikipedia.org/wiki/Monatliche_Correspondenz), a volume of astronomical correspondence edited by [Franz Xaver von Zach](http://en.wikipedia.org/wiki/Franz_Xaver_von_Zach), the Hungarian astronomer who, with the aid of orbital predictions from a 24 year old Carl Friederich Gauss, was able to recover the 'lost planet' in 1802.\n",
      "\n",
      "## Monatliche Correspondenz\n",
      "\n",
      "First, here is the volume where the data was originally published."
     ]
    },
    {
     "cell_type": "code",
     "collapsed": false,
     "input": [
      "import pods\n",
      "pods.notebook.display_google_book(id='JBw4AAAAMAAJ', page='GBS.PA280') "
     ],
     "language": "python",
     "metadata": {},
     "outputs": [
      {
       "html": [
        "<iframe frameborder=\"0\" scrolling=\"yes\" style=\"border:0px\" src=\"http://books.google.co.uk/books?id=JBw4AAAAMAAJ&pg=PAGBS.PA280&output=embed\", width=700 height=500></iframe>"
       ],
       "metadata": {},
       "output_type": "display_data",
       "text": [
        "<IPython.core.display.HTML at 0x1033d8650>"
       ]
      }
     ],
     "prompt_number": 1
    },
    {
     "cell_type": "markdown",
     "metadata": {},
     "source": [
      "The data can be accessed as a `pandas` data frame through"
     ]
    },
    {
     "cell_type": "code",
     "collapsed": false,
     "input": [
      "data = pods.datasets.ceres()['data']\n",
      "data.describe()"
     ],
     "language": "python",
     "metadata": {},
     "outputs": [
      {
       "html": [
        "<div style=\"max-height:1000px;max-width:1500px;overflow:auto;\">\n",
        "<table border=\"1\" class=\"dataframe\">\n",
        "  <thead>\n",
        "    <tr style=\"text-align: right;\">\n",
        "      <th></th>\n",
        "      <th>Mittlere Sonnenzeit</th>\n",
        "      <th>Gerade Aufstig in Zeit</th>\n",
        "      <th>Gerade Aufstiegung in Graden</th>\n",
        "      <th>Nordlich Abweich</th>\n",
        "      <th>Geocentrische Laenger</th>\n",
        "      <th>Geocentrische Breite</th>\n",
        "      <th>Ort der Sonne + 20\" Aberration</th>\n",
        "      <th>Logar. d. Distanz</th>\n",
        "    </tr>\n",
        "  </thead>\n",
        "  <tbody>\n",
        "    <tr>\n",
        "      <th>count</th>\n",
        "      <td> 21.000000</td>\n",
        "      <td> 21.000000</td>\n",
        "      <td> 21.000000</td>\n",
        "      <td> 20.000000</td>\n",
        "      <td> 19.000000</td>\n",
        "      <td> 19.000000</td>\n",
        "      <td> 19.000000</td>\n",
        "      <td> 19.000000</td>\n",
        "    </tr>\n",
        "    <tr>\n",
        "      <th>mean</th>\n",
        "      <td>  7.460553</td>\n",
        "      <td>  3.474579</td>\n",
        "      <td> 52.117897</td>\n",
        "      <td> 17.052194</td>\n",
        "      <td>  1.867660</td>\n",
        "      <td>  1.802494</td>\n",
        "      <td> 10.089094</td>\n",
        "      <td>  9.993320</td>\n",
        "    </tr>\n",
        "    <tr>\n",
        "      <th>std</th>\n",
        "      <td>  0.784663</td>\n",
        "      <td>  0.055710</td>\n",
        "      <td>  0.836052</td>\n",
        "      <td>  0.985692</td>\n",
        "      <td>  0.036103</td>\n",
        "      <td>  0.815463</td>\n",
        "      <td>  0.444599</td>\n",
        "      <td>  0.000609</td>\n",
        "    </tr>\n",
        "    <tr>\n",
        "      <th>min</th>\n",
        "      <td>  6.199500</td>\n",
        "      <td>  3.424925</td>\n",
        "      <td> 51.374056</td>\n",
        "      <td> 15.628750</td>\n",
        "      <td>  1.832791</td>\n",
        "      <td>  0.600806</td>\n",
        "      <td>  9.396909</td>\n",
        "      <td>  9.992616</td>\n",
        "    </tr>\n",
        "    <tr>\n",
        "      <th>25%</th>\n",
        "      <td>  6.807333</td>\n",
        "      <td>  3.435597</td>\n",
        "      <td> 51.533972</td>\n",
        "      <td> 16.329201</td>\n",
        "      <td>  1.839015</td>\n",
        "      <td>  1.153542</td>\n",
        "      <td>  9.780756</td>\n",
        "      <td>  9.992807</td>\n",
        "    </tr>\n",
        "    <tr>\n",
        "      <th>50%</th>\n",
        "      <td>  7.400750</td>\n",
        "      <td>  3.448292</td>\n",
        "      <td> 51.724389</td>\n",
        "      <td> 17.015889</td>\n",
        "      <td>  1.851418</td>\n",
        "      <td>  1.707806</td>\n",
        "      <td> 10.084920</td>\n",
        "      <td>  9.993189</td>\n",
        "    </tr>\n",
        "    <tr>\n",
        "      <th>75%</th>\n",
        "      <td>  8.038194</td>\n",
        "      <td>  3.504792</td>\n",
        "      <td> 52.571889</td>\n",
        "      <td> 17.827847</td>\n",
        "      <td>  1.889333</td>\n",
        "      <td>  2.383375</td>\n",
        "      <td> 10.431290</td>\n",
        "      <td>  9.993735</td>\n",
        "    </tr>\n",
        "    <tr>\n",
        "      <th>max</th>\n",
        "      <td>  8.721611</td>\n",
        "      <td>  3.618483</td>\n",
        "      <td> 54.277250</td>\n",
        "      <td> 18.799667</td>\n",
        "      <td>  1.952000</td>\n",
        "      <td>  3.111694</td>\n",
        "      <td> 10.813114</td>\n",
        "      <td>  9.994582</td>\n",
        "    </tr>\n",
        "  </tbody>\n",
        "</table>\n",
        "</div>"
       ],
       "metadata": {},
       "output_type": "pyout",
       "prompt_number": 2,
       "text": [
        "       Mittlere Sonnenzeit  Gerade Aufstig in Zeit  \\\n",
        "count            21.000000               21.000000   \n",
        "mean              7.460553                3.474579   \n",
        "std               0.784663                0.055710   \n",
        "min               6.199500                3.424925   \n",
        "25%               6.807333                3.435597   \n",
        "50%               7.400750                3.448292   \n",
        "75%               8.038194                3.504792   \n",
        "max               8.721611                3.618483   \n",
        "\n",
        "       Gerade Aufstiegung in Graden  Nordlich Abweich  Geocentrische Laenger  \\\n",
        "count                     21.000000         20.000000              19.000000   \n",
        "mean                      52.117897         17.052194               1.867660   \n",
        "std                        0.836052          0.985692               0.036103   \n",
        "min                       51.374056         15.628750               1.832791   \n",
        "25%                       51.533972         16.329201               1.839015   \n",
        "50%                       51.724389         17.015889               1.851418   \n",
        "75%                       52.571889         17.827847               1.889333   \n",
        "max                       54.277250         18.799667               1.952000   \n",
        "\n",
        "       Geocentrische Breite  Ort der Sonne + 20\" Aberration  Logar. d. Distanz  \n",
        "count             19.000000                       19.000000          19.000000  \n",
        "mean               1.802494                       10.089094           9.993320  \n",
        "std                0.815463                        0.444599           0.000609  \n",
        "min                0.600806                        9.396909           9.992616  \n",
        "25%                1.153542                        9.780756           9.992807  \n",
        "50%                1.707806                       10.084920           9.993189  \n",
        "75%                2.383375                       10.431290           9.993735  \n",
        "max                3.111694                       10.813114           9.994582  "
       ]
      }
     ],
     "prompt_number": 2
    },
    {
     "cell_type": "code",
     "collapsed": false,
     "input": [
      "right_ascension = data['Gerade Aufstiegung in Graden']\n",
      "declination = data['Geocentrische Laenger']\n",
      "import matplotlib.pyplot as plt\n",
      "%matplotlib inline\n",
      "plt.plot(right_ascension, declination, 'rx')\n",
      "plt.xlabel('right ascension')\n",
      "plt.ylabel('declination')\n"
     ],
     "language": "python",
     "metadata": {},
     "outputs": [
      {
       "metadata": {},
       "output_type": "pyout",
       "prompt_number": 8,
       "text": [
        "<matplotlib.text.Text at 0x10db1d750>"
       ]
      },
      {
       "metadata": {},
       "output_type": "display_data",
       "png": "[encoded data removed]",
       "text": [
        "<matplotlib.figure.Figure at 0x10da49650>"
       ]
      }
     ],
     "prompt_number": 8
    },
    {
     "cell_type": "markdown",
     "metadata": {},
     "source": [
      "## Gauss's Prediction\n",
      "\n",
      "And you can now attempt to make a prediction, as Gauss did, of the orbital position of the dwarf planet in late 1801."
     ]
    },
    {
     "cell_type": "code",
     "collapsed": false,
     "input": [
      "pods.notebook.display_google_book(id='JBw4AAAAMAAJ', page='GBS.PA647')"
     ],
     "language": "python",
     "metadata": {},
     "outputs": [
      {
       "html": [
        "<iframe frameborder=\"0\" scrolling=\"yes\" style=\"border:0px\" src=\"http://books.google.co.uk/books?id=JBw4AAAAMAAJ&pg=PAGBS.PA647&output=embed\", width=700 height=500></iframe>"
       ],
       "metadata": {},
       "output_type": "display_data",
       "text": [
        "<IPython.core.display.HTML at 0x1033d8a90>"
       ]
      }
     ],
     "prompt_number": 3
    }
   ],
   "metadata": {}
  }
 ]
}