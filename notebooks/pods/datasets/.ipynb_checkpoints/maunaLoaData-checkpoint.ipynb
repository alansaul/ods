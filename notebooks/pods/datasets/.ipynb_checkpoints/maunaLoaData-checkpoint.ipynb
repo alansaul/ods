{
 "metadata": {
  "name": "",
  "signature": "sha256:c2b1cb3fbb7039b1790d230cc2d674f6e7b2b02adce39951b09b034bdf2ecf19"
 },
 "nbformat": 3,
 "nbformat_minor": 0,
 "worksheets": [
  {
   "cells": [
    {
     "cell_type": "markdown",
     "metadata": {},
     "source": [
      "# Datasets: Downloading Data from the Mauna Loa Observatory\n",
      "\n",
      "## Open Data Science Initiative\n",
      "\n",
      "### 28th May 2014 Neil D. Lawrence"
     ]
    },
    {
     "cell_type": "markdown",
     "metadata": {},
     "source": [
      "This data set collection is from the Mauna Loa observatory which records atmospheric carbon levels. The data was used by [Rasmussen and Williams (2006)](http://www.gaussianprocess.org/gpml/chapters/RW5.pdf) to demonstrate hyperparameter setting in Gaussian processes. When first called, or if called with `refresh_data=True` the latest version of the data set is downloaded. Otherwise, the cached version of the data set is loaded from disk."
     ]
    },
    {
     "cell_type": "code",
     "collapsed": false,
     "input": [
      "import pods\n",
      "import pylab as plt\n",
      "%matplotlib inline"
     ],
     "language": "python",
     "metadata": {},
     "outputs": []
    },
    {
     "cell_type": "code",
     "collapsed": false,
     "input": [
      "data = pods.datasets.mauna_loa() "
     ],
     "language": "python",
     "metadata": {},
     "outputs": [
      {
       "output_type": "stream",
       "stream": "stdout",
       "text": [
        "Acquiring resource: mauna_loa\n",
        "\n",
        "Details of data: \n",
        "The 'average' column contains the monthly mean CO2 mole fraction determined from daily averages.  The mole fraction of CO2, expressed as parts per million (ppm) is the number of molecules of CO2 in every one million molecules of dried air (water vapor removed).  If there are missing days concentrated either early or late in the month, the monthly mean is corrected to the middle of the month using the average seasonal cycle.  Missing months are denoted by -99.99. The 'interpolated' column includes average values from the preceding column and interpolated values where data are missing.  Interpolated values are computed in two steps.  First, we compute for each month the average seasonal cycle in a 7-year window around each monthly value.  In this way the seasonal cycle is allowed to change slowly over time.  We then determine the 'trend' value for each month by removing the seasonal cycle; this result is shown in the 'trend' column.  Trend values are linearly interpolated for missing months. The interpolated monthly mean is then the sum of the average seasonal cycle value and the trend value for the missing month.\n",
        "\n",
        "NOTE: In general, the data presented for the last year are subject to change, depending on recalibration of the reference gas mixtures used, and other quality control procedures. Occasionally, earlier years may also be changed for the same reasons.  Usually these changes are minor.\n",
        "\n",
        "CO2 expressed as a mole fraction in dry air, micromol/mol, abbreviated as ppm \n",
        "\n",
        " (-99.99 missing data;  -1 no data for daily means in month)\n",
        "\n",
        "Please cite:\n",
        "Mauna Loa Data. Dr. Pieter Tans, NOAA/ESRL (www.esrl.noaa.gov/gmd/ccgg/trends/) and Dr. Ralph Keeling, Scripps Institution of Oceanography (scrippsco2.ucsd.edu/).\n",
        "\n",
        "After downloading the data will take up 46779 bytes of space.\n",
        "\n",
        "Data will be stored in /Users/neill/ods_data_cache/mauna_loa.\n",
        "\n",
        "You must also agree to the following license:\n",
        "-------------------------------------------------------------------- USE OF NOAA ESRL DATA\n",
        "\n",
        "  These data are made freely available to the public and the scientific community in the belief that their wide dissemination will lead to greater understanding and new scientific insights. The availability of these data does not constitute publication of the data.  NOAA relies on the ethics and integrity of the user to insure that ESRL receives fair credit for their work.  If the data  are obtained for potential use in a publication or presentation,  ESRL should be informed at the outset of the nature of this work.   If the ESRL data are essential to the work, or if an important  result or conclusion depends on the ESRL data, co-authorship may be appropriate.  This should be discussed at an early stage in the work.  Manuscripts using the ESRL data should be sent to ESRL for review before they are submitted for publication so we can insure that the quality and limitations of the data are accurately represented.\n",
        "\n",
        "  Contact:   Pieter Tans (303 497 6678; pieter.tans@noaa.gov)\n",
        "\n",
        "  RECIPROCITY  Use of these data implies an agreement to reciprocate. Laboratories making similar measurements agree to make their own data available to the general public and to the scientific community in an equally complete and easily accessible form. Modelers are encouraged to make available to the community, upon request, their own tools used in the interpretation of the ESRL data, namely well documented model code, transport fields, and additional information necessary for other scientists to repeat the work and to run modified versions. Model availability includes collaborative support for new users of the models.\n",
        " --------------------------------------------------------------------\n",
        "\n",
        "     See www.esrl.noaa.gov/gmd/ccgg/trends/ for additional details.\n",
        "\n",
        "Do you wish to proceed with the download? [yes/no]\n"
       ]
      }
     ]
    },
    {
     "cell_type": "markdown",
     "metadata": {},
     "source": [
      "Here, because I've downloaded the data before I have a cached version. To download a fresh version of the data I can set `refresh_data=True`.\n"
     ]
    },
    {
     "cell_type": "code",
     "collapsed": false,
     "input": [
      "data = pods.datasets.mauna_loa(refresh_data=True)"
     ],
     "language": "python",
     "metadata": {},
     "outputs": []
    },
    {
     "cell_type": "markdown",
     "metadata": {},
     "source": [
      "The data dictionary contains the standard keys 'X' and 'Y' which give a unidimensional regression problem."
     ]
    },
    {
     "cell_type": "code",
     "collapsed": false,
     "input": [
      "plt.plot(data['X'], data['Y'], 'rx')\n",
      "plt.xlabel('year')\n",
      "plt.ylabel('CO$_2$ concentration in ppm')"
     ],
     "language": "python",
     "metadata": {},
     "outputs": []
    },
    {
     "cell_type": "markdown",
     "metadata": {},
     "source": [
      "Additionally there are keys `Xtest` and `Ytest` which provide test data. The number of points considered to be *training data* is controlled by the argument `num_train` argument, which defaults to 545. This number is chosen as it matches that used in the [Gaussian Processes for Machine Learning](http://www.gaussianprocess.org/gpml/chapters/RW5.pdf) book. Below we plot the test and training data."
     ]
    },
    {
     "cell_type": "code",
     "collapsed": false,
     "input": [
      "plt.plot(data['X'], data['Y'], 'rx')\n",
      "plt.plot(data['Xtest'], data['Ytest'], 'go')\n",
      "plt.xlabel('year')\n",
      "plt.ylabel('CO$_2$ concentration in ppm')"
     ],
     "language": "python",
     "metadata": {},
     "outputs": []
    },
    {
     "cell_type": "markdown",
     "metadata": {},
     "source": [
      "Of course we have included the citation information for the data."
     ]
    },
    {
     "cell_type": "code",
     "collapsed": false,
     "input": [
      "print data['citation']"
     ],
     "language": "python",
     "metadata": {},
     "outputs": []
    },
    {
     "cell_type": "markdown",
     "metadata": {},
     "source": [
      "And extra information about the data is included, as standard, under the keys `info` and `details`."
     ]
    },
    {
     "cell_type": "code",
     "collapsed": false,
     "input": [
      "print data['info']\n",
      "print\n",
      "print data['details']"
     ],
     "language": "python",
     "metadata": {},
     "outputs": []
    },
    {
     "cell_type": "markdown",
     "metadata": {},
     "source": [
      "And, importantly, for reference you can also check the license for the data:"
     ]
    },
    {
     "cell_type": "code",
     "collapsed": false,
     "input": [
      "print data['license']"
     ],
     "language": "python",
     "metadata": {},
     "outputs": []
    },
    {
     "cell_type": "code",
     "collapsed": false,
     "input": [],
     "language": "python",
     "metadata": {},
     "outputs": []
    }
   ],
   "metadata": {}
  }
 ]
}